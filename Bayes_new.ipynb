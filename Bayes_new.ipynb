{
 "cells": [
  {
   "cell_type": "code",
   "execution_count": 4,
   "metadata": {},
   "outputs": [],
   "source": [
    "import re\n",
    "import numpy as np\n",
    "import collections\n",
    "\n",
    "# 문장을 받아서 단어의 set으로 리턴\n",
    "def tokenize(message):\n",
    "    message = message.lower()\n",
    "    tokens = re.findall(\"[a-z0-9']+\",message)\n",
    "    return set(tokens)"
   ]
  },
  {
   "cell_type": "code",
   "execution_count": 5,
   "metadata": {
    "collapsed": true
   },
   "outputs": [],
   "source": [
    "def count_words(training_set):\n",
    "    '''\n",
    "    training_set is tuple.\n",
    "    (message,isSPAM) 의 리스트\n",
    "    '''\n",
    "    # key, [x1,x2] : x1는 스팸메시지에서 나온 word카운트, x2는 햄메시지에서 나온 word카운트\n",
    "    counts = collections.defaultdict(lambda : [0,0])\n",
    "    for message, is_spam in training_set:\n",
    "        for word in tokenize(message):\n",
    "            counts[word][0 if is_spam else 1] +=1\n",
    "    return counts"
   ]
  },
  {
   "cell_type": "code",
   "execution_count": 6,
   "metadata": {
    "collapsed": true
   },
   "outputs": [],
   "source": [
    "def word_probability(counts,total_spams,total_non_spams,k=0.5):\n",
    "    '''\n",
    "    P(word | S), P(word | ~S)을 알아야 한다.\n",
    "    '''\n",
    "    returnVec = [] # It constains tuple of (word,P(word|S),P(word|~S))\n",
    "    for word, (spamCount,hamCount) in counts.items():\n",
    "        w = word\n",
    "        cond_S = (k + spamCount) / (2*k + total_spams)\n",
    "        cond_non_S = (k + hamCount) / (2*k + total_non_spams)\n",
    "        returnVec.append(w,cond_S,cond_non_S)\n",
    "    return returnVec"
   ]
  },
  {
   "cell_type": "code",
   "execution_count": 7,
   "metadata": {
    "collapsed": true
   },
   "outputs": [],
   "source": [
    "def spam_probability(word_probs,message):\n",
    "    message_words = tokenize(message)\n",
    "    log_prob_if_spam = log_prob_if_ham = 0.0\n",
    "    \n",
    "    # 테스트 데이터의 모든 단어에 대하여\n",
    "    for word, prob_is_spam, prob_is_ham in word_probs:\n",
    "        # 테스트 대상이 되는 단어들을 message_words라 했을때,\n",
    "        # 우리가 가지고있는 (word,prob_S,prob_~S)리스트에 속한 단어인 경우\n",
    "        if word in message_words:\n",
    "            log_prob_if_spam += np.log(prob_is_spam)\n",
    "            log_prob_if_ham += np.log(prob_is_ham)\n",
    "        # 테스트 대상이 되는 단어들을 message_words라 했을때,\n",
    "        # 우리가 가지고있는 (word,prob_S,prob_~S)리스트에 속하지 않은 단어인 경우\n",
    "        # 해당 메시지가 스팸일 확률은 그 word를 가졌을때 스팸일 확률을 P(word | S) 라 했을때\n",
    "        # 1 - P(word | S)는 해당 word를 가지지 않았을때, 스팸일 확률을 의미하므로\n",
    "        else:\n",
    "            log_prob_if_spam += np.log(1 - prob_is_spam)\n",
    "            log_prob_if_ham += np.log(1- prob_is_ham)\n",
    "    log_prob_if_spam = np.exp(log_prob_if_spam)\n",
    "    log_prob_if_ham = np.exp(log_prob_if_ham)\n",
    "    \n",
    "    return log_prob_if_spam / (log_prob_if_spam + log_prob_if_ham)"
   ]
  },
  {
   "cell_type": "code",
   "execution_count": 8,
   "metadata": {
    "collapsed": true
   },
   "outputs": [],
   "source": [
    "class NaiveBayesClassifier:\n",
    "    def __init__(self,k=0.5):\n",
    "        self.k = k\n",
    "        self.word_probs = []\n",
    "    def train(self,training_set):\n",
    "        num_spams = len([is_spam for message,is_spam in training_set if is_spam])\n",
    "        num_hams = len(training_set) - num_spams\n",
    "        \n",
    "        word_counts = count_words(training_set)\n",
    "        self.word_probs = word_probability(word_counts,num_spams,num_hams,self.k)\n",
    "    def classifiy(self,message):\n",
    "        return spam_probability(self.word_probs,message)"
   ]
  }
 ],
 "metadata": {
  "kernelspec": {
   "display_name": "Python 3",
   "language": "python",
   "name": "python3"
  },
  "language_info": {
   "codemirror_mode": {
    "name": "ipython",
    "version": 3.0
   },
   "file_extension": ".py",
   "mimetype": "text/x-python",
   "name": "python",
   "nbconvert_exporter": "python",
   "pygments_lexer": "ipython3",
   "version": "3.5.3"
  }
 },
 "nbformat": 4,
 "nbformat_minor": 0
}